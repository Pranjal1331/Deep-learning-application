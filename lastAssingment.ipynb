{
  "nbformat": 4,
  "nbformat_minor": 0,
  "metadata": {
    "colab": {
      "provenance": []
    },
    "kernelspec": {
      "name": "python3",
      "display_name": "Python 3"
    },
    "language_info": {
      "name": "python"
    }
  },
  "cells": [
    {
      "cell_type": "code",
      "source": [
        "\n",
        "import zipfile\n",
        "import os\n",
        "import cv2\n",
        "import numpy as np\n",
        "from tqdm import tqdm"
      ],
      "metadata": {
        "id": "Cj-1LjWlgNNZ"
      },
      "execution_count": null,
      "outputs": []
    },
    {
      "cell_type": "code",
      "source": [
        "\n",
        "\n",
        "# Path to the zip file\n",
        "zip_path = '/content/drive/MyDrive/data_overall.zip'\n",
        "\n",
        "# Destination directory to extract the files\n",
        "extract_path = '/content/data/'"
      ],
      "metadata": {
        "id": "MkJ3OMLygQ6J"
      },
      "execution_count": null,
      "outputs": []
    },
    {
      "cell_type": "code",
      "source": [
        "with zipfile.ZipFile(zip_path, 'r') as zip_ref:\n",
        "    zip_ref.extractall(extract_path)\n",
        "\n",
        "# Define your image directories\n",
        "class1_dir = os.path.join(extract_path, 'data_deeplearning','data', 'laminar')\n",
        "class2_dir = os.path.join(extract_path, 'data_deeplearning','data', 'turbulent')\n",
        "\n",
        "# Function to read images and labels\n",
        "def load_images(image_dir):\n",
        "    images = []\n",
        "    labels = []\n",
        "    for filename in tqdm(os.listdir(image_dir)):\n",
        "        img_path = os.path.join(image_dir, filename)\n",
        "        img = cv2.imread(img_path)\n",
        "        if img is not None:\n",
        "            images.append(img)\n",
        "            labels.append(0 if 'laminar' in img_path else 1)\n",
        "    return images, labels\n",
        "\n",
        "# Load images and labels\n",
        "class1_images, class1_labels = load_images(class1_dir)\n",
        "class2_images, class2_labels = load_images(class2_dir)\n",
        "\n",
        "# Resize images to the same dimensions\n",
        "target_size = (224, 224)\n",
        "class1_images_resized = [cv2.resize(img, target_size) for img in class1_images]\n",
        "class2_images_resized = [cv2.resize(img, target_size) for img in class2_images]\n",
        "\n",
        "# Combine the two classes\n",
        "images = np.array(class1_images_resized + class2_images_resized)\n",
        "labels = np.array(class1_labels + class2_labels)\n",
        "\n",
        "# Shuffle the data\n",
        "shuffle_indices = np.arange(len(labels))\n",
        "np.random.shuffle(shuffle_indices)\n",
        "images_shuffled = images[shuffle_indices]\n",
        "labels_shuffled = labels[shuffle_indices]\n",
        "\n",
        "# Check the shape of the data\n",
        "print(\"Images shape:\", images_shuffled.shape)\n",
        "print(\"Labels shape:\", labels_shuffled.shape)"
      ],
      "metadata": {
        "colab": {
          "base_uri": "https://localhost:8080/"
        },
        "id": "g179aTnGhNgv",
        "outputId": "e1233394-33a3-4104-c6e2-7aa362b24a27"
      },
      "execution_count": null,
      "outputs": [
        {
          "output_type": "stream",
          "name": "stderr",
          "text": [
            "100%|██████████| 178/178 [00:01<00:00, 149.95it/s]\n",
            "100%|██████████| 195/195 [00:01<00:00, 163.49it/s]\n"
          ]
        },
        {
          "output_type": "stream",
          "name": "stdout",
          "text": [
            "Images shape: (373, 224, 224, 3)\n",
            "Labels shape: (373,)\n"
          ]
        }
      ]
    },
    {
      "cell_type": "code",
      "source": [
        "labels_shuffled"
      ],
      "metadata": {
        "colab": {
          "base_uri": "https://localhost:8080/"
        },
        "id": "FX01gipzBEXj",
        "outputId": "3a565e31-5cdf-4c67-cf92-ab66903c71b6"
      },
      "execution_count": null,
      "outputs": [
        {
          "output_type": "execute_result",
          "data": {
            "text/plain": [
              "array([0, 1, 1, 1, 0, 0, 1, 1, 0, 1, 0, 0, 0, 0, 1, 1, 0, 1, 1, 0, 1, 0,\n",
              "       1, 1, 1, 0, 0, 0, 0, 0, 1, 0, 0, 0, 1, 0, 0, 0, 0, 0, 1, 0, 1, 0,\n",
              "       1, 1, 0, 1, 1, 0, 1, 1, 1, 1, 1, 0, 1, 1, 1, 0, 1, 0, 1, 1, 0, 1,\n",
              "       1, 0, 1, 0, 1, 0, 0, 1, 0, 1, 0, 1, 0, 1, 1, 1, 1, 1, 0, 0, 1, 1,\n",
              "       1, 1, 1, 1, 0, 0, 0, 1, 1, 0, 1, 0, 0, 1, 1, 1, 0, 0, 1, 1, 1, 1,\n",
              "       1, 1, 0, 0, 1, 0, 1, 1, 0, 1, 1, 1, 0, 1, 1, 1, 0, 0, 0, 1, 1, 0,\n",
              "       1, 1, 0, 0, 0, 0, 1, 0, 0, 1, 0, 1, 0, 1, 0, 0, 1, 1, 1, 1, 1, 0,\n",
              "       0, 1, 0, 1, 1, 0, 1, 0, 1, 0, 0, 0, 1, 0, 1, 0, 0, 1, 1, 1, 1, 1,\n",
              "       0, 1, 1, 0, 1, 0, 1, 1, 1, 0, 0, 1, 0, 0, 1, 1, 0, 0, 0, 0, 0, 1,\n",
              "       1, 0, 1, 1, 0, 1, 1, 0, 1, 0, 1, 0, 0, 0, 1, 0, 0, 0, 0, 1, 1, 1,\n",
              "       1, 0, 0, 0, 1, 1, 1, 0, 1, 0, 1, 0, 1, 0, 0, 0, 0, 0, 1, 1, 0, 1,\n",
              "       0, 0, 0, 1, 0, 1, 1, 1, 0, 1, 0, 1, 1, 1, 1, 1, 1, 0, 0, 1, 1, 1,\n",
              "       1, 0, 0, 1, 1, 1, 1, 1, 0, 1, 1, 1, 1, 0, 0, 1, 1, 1, 1, 0, 1, 0,\n",
              "       0, 0, 1, 1, 0, 1, 0, 1, 0, 1, 0, 0, 1, 1, 1, 1, 0, 1, 0, 0, 0, 1,\n",
              "       0, 0, 0, 0, 0, 0, 0, 0, 0, 1, 1, 0, 0, 1, 0, 0, 1, 0, 1, 0, 0, 0,\n",
              "       0, 1, 0, 1, 0, 1, 1, 1, 0, 0, 0, 1, 1, 0, 0, 0, 0, 0, 1, 1, 1, 0,\n",
              "       1, 0, 1, 0, 0, 0, 0, 1, 1, 1, 1, 1, 0, 0, 0, 1, 1, 1, 1, 0, 1])"
            ]
          },
          "metadata": {},
          "execution_count": 4
        }
      ]
    },
    {
      "cell_type": "code",
      "source": [
        "from sklearn.model_selection import train_test_split\n",
        "\n",
        "# Split the data into training (70%), validation (15%), and test (15%) sets\n",
        "X_train, X_temp, y_train, y_temp = train_test_split(images_shuffled, labels_shuffled, test_size=0.3, random_state=42)\n",
        "X_val, X_test, y_val, y_test = train_test_split(X_temp, y_temp, test_size=0.5, random_state=42)\n",
        "\n",
        "# Check the shape of each set\n",
        "print(\"Training set:\", X_train.shape, y_train.shape)\n",
        "print(\"Validation set:\", X_val.shape, y_val.shape)\n",
        "print(\"Test set:\", X_test.shape, y_test.shape)"
      ],
      "metadata": {
        "colab": {
          "base_uri": "https://localhost:8080/"
        },
        "id": "Ta1biZVukygz",
        "outputId": "f5cab18f-9a95-439d-80f3-32e3b4c21aea"
      },
      "execution_count": null,
      "outputs": [
        {
          "output_type": "stream",
          "name": "stdout",
          "text": [
            "Training set: (261, 224, 224, 3) (261,)\n",
            "Validation set: (56, 224, 224, 3) (56,)\n",
            "Test set: (56, 224, 224, 3) (56,)\n"
          ]
        }
      ]
    },
    {
      "cell_type": "code",
      "source": [
        "from sklearn.preprocessing import MinMaxScaler\n",
        "\n",
        "# Reshape images to include a channel dimension\n",
        "X_train = X_train.reshape(-1, 224, 224, 3)\n",
        "X_val = X_val.reshape(-1, 224, 224, 3)\n",
        "X_test = X_test.reshape(-1, 224, 224, 3)\n",
        "\n",
        "# Scale pixel values to the range [0, 1]\n",
        "X_train = X_train.astype('float32') / 255.0\n",
        "X_val = X_val.astype('float32') / 255.0\n",
        "X_test = X_test.astype('float32') / 255.0"
      ],
      "metadata": {
        "id": "_tK3rZ-mlJFL"
      },
      "execution_count": null,
      "outputs": []
    },
    {
      "cell_type": "code",
      "source": [
        "from tensorflow.keras.models import Sequential\n",
        "from tensorflow.keras.layers import Conv2D, MaxPooling2D, Flatten, Dense, Dropout\n",
        "from tensorflow.keras import regularizers"
      ],
      "metadata": {
        "id": "KwoLKMl3lrJA"
      },
      "execution_count": null,
      "outputs": []
    },
    {
      "cell_type": "code",
      "source": [
        "model = Sequential([\n",
        "    Conv2D(32, 3, input_shape=(224, 224, 3), activation='relu',\n",
        "           kernel_regularizer=regularizers.l2(0.01)),\n",
        "    MaxPooling2D(),\n",
        "    Dropout(0.2),\n",
        "    Conv2D(32, 3, activation='relu'),\n",
        "    MaxPooling2D(),\n",
        "    Dropout(0.2),\n",
        "    Conv2D(32, 3, activation='relu'),\n",
        "   # MaxPooling2D(),\n",
        "    #Conv2D(64, 3, activation='relu'),\n",
        "    MaxPooling2D(),\n",
        "    Flatten(),\n",
        "    #Dense(512, activation='relu'),\n",
        "    Dense(256, activation='relu'),\n",
        "    Dense(1, activation='sigmoid')\n",
        "])\n",
        "'''model = Sequential([\n",
        "    Conv2D(32, (3, 3), activation='relu', input_shape=(224, 224, 3)),\n",
        "    MaxPooling2D((2, 2)),\n",
        "    Conv2D(64, (3, 3), activation='relu'),\n",
        "    MaxPooling2D((2, 2)),\n",
        "    Conv2D(128, (3, 3), activation='relu'),\n",
        "    MaxPooling2D((2, 2)),\n",
        "    Conv2D(128, (3, 3), activation='relu'),\n",
        "    MaxPooling2D((2, 2)),\n",
        "    Flatten(),\n",
        "    Dense(512, activation='relu'),\n",
        "    Dense(256, activation='relu'),\n",
        "    Dense(1, activation='sigmoid')\n",
        "])'''\n",
        "\n",
        "model.summary()"
      ],
      "metadata": {
        "colab": {
          "base_uri": "https://localhost:8080/"
        },
        "id": "DpYbFXUKlsNJ",
        "outputId": "8080e972-298d-427f-faff-c90eef576c0c"
      },
      "execution_count": null,
      "outputs": [
        {
          "output_type": "stream",
          "name": "stdout",
          "text": [
            "Model: \"sequential_8\"\n",
            "_________________________________________________________________\n",
            " Layer (type)                Output Shape              Param #   \n",
            "=================================================================\n",
            " conv2d_29 (Conv2D)          (None, 222, 222, 32)      896       \n",
            "                                                                 \n",
            " max_pooling2d_29 (MaxPooli  (None, 111, 111, 32)      0         \n",
            " ng2D)                                                           \n",
            "                                                                 \n",
            " dropout_6 (Dropout)         (None, 111, 111, 32)      0         \n",
            "                                                                 \n",
            " conv2d_30 (Conv2D)          (None, 109, 109, 32)      9248      \n",
            "                                                                 \n",
            " max_pooling2d_30 (MaxPooli  (None, 54, 54, 32)        0         \n",
            " ng2D)                                                           \n",
            "                                                                 \n",
            " dropout_7 (Dropout)         (None, 54, 54, 32)        0         \n",
            "                                                                 \n",
            " conv2d_31 (Conv2D)          (None, 52, 52, 32)        9248      \n",
            "                                                                 \n",
            " max_pooling2d_31 (MaxPooli  (None, 26, 26, 32)        0         \n",
            " ng2D)                                                           \n",
            "                                                                 \n",
            " flatten_8 (Flatten)         (None, 21632)             0         \n",
            "                                                                 \n",
            " dense_24 (Dense)            (None, 256)               5538048   \n",
            "                                                                 \n",
            " dense_25 (Dense)            (None, 1)                 257       \n",
            "                                                                 \n",
            "=================================================================\n",
            "Total params: 5557697 (21.20 MB)\n",
            "Trainable params: 5557697 (21.20 MB)\n",
            "Non-trainable params: 0 (0.00 Byte)\n",
            "_________________________________________________________________\n"
          ]
        }
      ]
    },
    {
      "cell_type": "code",
      "source": [
        "'''from tensorflow.keras.utils import to_categorical\n",
        "y_train_encoded = to_categorical(y_train)\n",
        "y_val_encoded = to_categorical(y_val)\n",
        "y_test_encoded = to_categorical(y_test)'''"
      ],
      "metadata": {
        "id": "a2CHcycBpW4e",
        "colab": {
          "base_uri": "https://localhost:8080/",
          "height": 36
        },
        "outputId": "e6a0ec0d-c3e1-419a-e5ed-9a1c5767a73b"
      },
      "execution_count": null,
      "outputs": [
        {
          "output_type": "execute_result",
          "data": {
            "text/plain": [
              "'from tensorflow.keras.utils import to_categorical\\ny_train_encoded = to_categorical(y_train)\\ny_val_encoded = to_categorical(y_val)\\ny_test_encoded = to_categorical(y_test)'"
            ],
            "application/vnd.google.colaboratory.intrinsic+json": {
              "type": "string"
            }
          },
          "metadata": {},
          "execution_count": 44
        }
      ]
    },
    {
      "cell_type": "code",
      "source": [
        "model.compile(optimizer='adam', loss='binary_crossentropy',metrics=['accuracy'])"
      ],
      "metadata": {
        "id": "-FivDmApl1kW"
      },
      "execution_count": null,
      "outputs": []
    },
    {
      "cell_type": "code",
      "source": [
        "model.fit(X_train, y_train,batch_size=32,epochs=25,validation_data=(X_val, y_val))"
      ],
      "metadata": {
        "colab": {
          "base_uri": "https://localhost:8080/"
        },
        "id": "_Pbn0JcTl2aL",
        "outputId": "751cd66a-f9ef-4b08-d34e-6a572fe3abad"
      },
      "execution_count": null,
      "outputs": [
        {
          "output_type": "stream",
          "name": "stdout",
          "text": [
            "Epoch 1/25\n",
            "9/9 [==============================] - 21s 2s/step - loss: 1.9892 - accuracy: 0.4828 - val_loss: 0.7404 - val_accuracy: 0.5536\n",
            "Epoch 2/25\n",
            "9/9 [==============================] - 21s 2s/step - loss: 0.7839 - accuracy: 0.4483 - val_loss: 0.7285 - val_accuracy: 0.6607\n",
            "Epoch 3/25\n",
            "9/9 [==============================] - 19s 2s/step - loss: 0.7125 - accuracy: 0.6322 - val_loss: 0.6999 - val_accuracy: 0.7143\n",
            "Epoch 4/25\n",
            "9/9 [==============================] - 19s 2s/step - loss: 0.6133 - accuracy: 0.7050 - val_loss: 0.6105 - val_accuracy: 0.7500\n",
            "Epoch 5/25\n",
            "9/9 [==============================] - 21s 2s/step - loss: 0.4361 - accuracy: 0.7893 - val_loss: 0.4462 - val_accuracy: 0.9107\n",
            "Epoch 6/25\n",
            "9/9 [==============================] - 19s 2s/step - loss: 0.2904 - accuracy: 0.9042 - val_loss: 0.3559 - val_accuracy: 0.8929\n",
            "Epoch 7/25\n",
            "9/9 [==============================] - 20s 2s/step - loss: 0.2074 - accuracy: 0.9349 - val_loss: 0.2637 - val_accuracy: 0.9286\n",
            "Epoch 8/25\n",
            "9/9 [==============================] - 19s 2s/step - loss: 0.1992 - accuracy: 0.9387 - val_loss: 0.3292 - val_accuracy: 0.8750\n",
            "Epoch 9/25\n",
            "9/9 [==============================] - 21s 2s/step - loss: 0.1386 - accuracy: 0.9770 - val_loss: 0.2392 - val_accuracy: 0.9286\n",
            "Epoch 10/25\n",
            "9/9 [==============================] - 19s 2s/step - loss: 0.1048 - accuracy: 0.9770 - val_loss: 0.4738 - val_accuracy: 0.8036\n",
            "Epoch 11/25\n",
            "9/9 [==============================] - 19s 2s/step - loss: 0.1425 - accuracy: 0.9617 - val_loss: 0.2557 - val_accuracy: 0.9286\n",
            "Epoch 12/25\n",
            "9/9 [==============================] - 19s 2s/step - loss: 0.0903 - accuracy: 0.9847 - val_loss: 0.2601 - val_accuracy: 0.8750\n",
            "Epoch 13/25\n",
            "9/9 [==============================] - 20s 2s/step - loss: 0.0740 - accuracy: 0.9923 - val_loss: 0.2388 - val_accuracy: 0.9286\n",
            "Epoch 14/25\n",
            "9/9 [==============================] - 28s 3s/step - loss: 0.0687 - accuracy: 0.9962 - val_loss: 0.2129 - val_accuracy: 0.9464\n",
            "Epoch 15/25\n",
            "9/9 [==============================] - 20s 2s/step - loss: 0.0544 - accuracy: 1.0000 - val_loss: 0.2466 - val_accuracy: 0.9464\n",
            "Epoch 16/25\n",
            "9/9 [==============================] - 19s 2s/step - loss: 0.0497 - accuracy: 1.0000 - val_loss: 0.2517 - val_accuracy: 0.9464\n",
            "Epoch 17/25\n",
            "9/9 [==============================] - 19s 2s/step - loss: 0.0477 - accuracy: 1.0000 - val_loss: 0.2144 - val_accuracy: 0.9464\n",
            "Epoch 18/25\n",
            "9/9 [==============================] - 21s 2s/step - loss: 0.0477 - accuracy: 0.9962 - val_loss: 0.2511 - val_accuracy: 0.9464\n",
            "Epoch 19/25\n",
            "9/9 [==============================] - 19s 2s/step - loss: 0.0422 - accuracy: 1.0000 - val_loss: 0.2214 - val_accuracy: 0.9464\n",
            "Epoch 20/25\n",
            "9/9 [==============================] - 20s 2s/step - loss: 0.0413 - accuracy: 1.0000 - val_loss: 0.2304 - val_accuracy: 0.9464\n",
            "Epoch 21/25\n",
            "9/9 [==============================] - 22s 2s/step - loss: 0.0408 - accuracy: 1.0000 - val_loss: 0.2221 - val_accuracy: 0.9464\n",
            "Epoch 22/25\n",
            "9/9 [==============================] - 19s 2s/step - loss: 0.0402 - accuracy: 1.0000 - val_loss: 0.2248 - val_accuracy: 0.9464\n",
            "Epoch 23/25\n",
            "9/9 [==============================] - 19s 2s/step - loss: 0.0396 - accuracy: 1.0000 - val_loss: 0.2171 - val_accuracy: 0.9464\n",
            "Epoch 24/25\n",
            "9/9 [==============================] - 21s 2s/step - loss: 0.0393 - accuracy: 1.0000 - val_loss: 0.2104 - val_accuracy: 0.9464\n",
            "Epoch 25/25\n",
            "9/9 [==============================] - 19s 2s/step - loss: 0.0387 - accuracy: 1.0000 - val_loss: 0.2041 - val_accuracy: 0.9464\n"
          ]
        },
        {
          "output_type": "execute_result",
          "data": {
            "text/plain": [
              "<keras.src.callbacks.History at 0x7f076026e1d0>"
            ]
          },
          "metadata": {},
          "execution_count": 67
        }
      ]
    },
    {
      "cell_type": "code",
      "source": [
        "import matplotlib.pyplot as plt\n"
      ],
      "metadata": {
        "id": "0FKLf_PTqamW"
      },
      "execution_count": null,
      "outputs": []
    },
    {
      "cell_type": "code",
      "source": [
        "plt.plot(model.history.history['accuracy'], label = 'train accuracy')\n",
        "plt.plot(model.history.history['val_accuracy'],label = 'val_accuracy')\n",
        "plt.legend()\n",
        "plt.show()"
      ],
      "metadata": {
        "colab": {
          "base_uri": "https://localhost:8080/",
          "height": 430
        },
        "id": "uO6h1j7Pl5h8",
        "outputId": "bdabc7d7-2820-4eee-8d0f-667df464ed62"
      },
      "execution_count": null,
      "outputs": [
        {
          "output_type": "display_data",
          "data": {
            "text/plain": [
              "<Figure size 640x480 with 1 Axes>"
            ],
            "image/png": "[encoded data removed]"
          },
          "metadata": {}
        }
      ]
    },
    {
      "cell_type": "code",
      "source": [
        "plt.plot(model.history.history['loss'], label = 'train loss')\n",
        "plt.plot(model.history.history['val_loss'],label = 'val_loss')\n",
        "plt.legend()\n",
        "plt.show()"
      ],
      "metadata": {
        "colab": {
          "base_uri": "https://localhost:8080/",
          "height": 430
        },
        "id": "DP0hVNyjl85P",
        "outputId": "1bc024ec-83ff-4512-db24-6f97e3a6d26c"
      },
      "execution_count": null,
      "outputs": [
        {
          "output_type": "display_data",
          "data": {
            "text/plain": [
              "<Figure size 640x480 with 1 Axes>"
            ],
            "image/png": "[encoded data removed]"
          },
          "metadata": {}
        }
      ]
    },
    {
      "cell_type": "code",
      "source": [
        "predictions = model.predict(X_test)"
      ],
      "metadata": {
        "colab": {
          "base_uri": "https://localhost:8080/"
        },
        "id": "R5xIBdInmBTa",
        "outputId": "cecba7fc-b4f6-42a2-ef2e-9c2cd970585b"
      },
      "execution_count": null,
      "outputs": [
        {
          "output_type": "stream",
          "name": "stderr",
          "text": [
            "WARNING:tensorflow:6 out of the last 11 calls to <function Model.make_predict_function.<locals>.predict_function at 0x7f0782bc2200> triggered tf.function retracing. Tracing is expensive and the excessive number of tracings could be due to (1) creating @tf.function repeatedly in a loop, (2) passing tensors with different shapes, (3) passing Python objects instead of tensors. For (1), please define your @tf.function outside of the loop. For (2), @tf.function has reduce_retracing=True option that can avoid unnecessary retracing. For (3), please refer to https://www.tensorflow.org/guide/function#controlling_retracing and https://www.tensorflow.org/api_docs/python/tf/function for  more details.\n"
          ]
        },
        {
          "output_type": "stream",
          "name": "stdout",
          "text": [
            "2/2 [==============================] - 1s 396ms/step\n"
          ]
        }
      ]
    },
    {
      "cell_type": "code",
      "source": [
        "from sklearn.metrics import classification_report, confusion_matrix, accuracy_score"
      ],
      "metadata": {
        "id": "3RHJVwSxmG5w"
      },
      "execution_count": null,
      "outputs": []
    },
    {
      "cell_type": "code",
      "source": [
        "# Evaluate the model on the test set\n",
        "loss, accuracy = model.evaluate(X_test, y_test)\n",
        "print(\"Test loss:\", loss)\n",
        "print(\"Test accuracy:\", accuracy)"
      ],
      "metadata": {
        "id": "6jXH3gcHqobH",
        "colab": {
          "base_uri": "https://localhost:8080/"
        },
        "outputId": "97167b08-f09a-4d34-c710-8ac5d91c0ac8"
      },
      "execution_count": null,
      "outputs": [
        {
          "output_type": "stream",
          "name": "stdout",
          "text": [
            "2/2 [==============================] - 1s 420ms/step - loss: 0.2996 - accuracy: 0.9464\n",
            "Test loss: 0.299569308757782\n",
            "Test accuracy: 0.9464285969734192\n"
          ]
        }
      ]
    }
  ]
}